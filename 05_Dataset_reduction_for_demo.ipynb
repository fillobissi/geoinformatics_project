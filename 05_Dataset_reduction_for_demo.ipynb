{
 "cells": [
  {
   "cell_type": "markdown",
   "id": "5a769de7-5a1e-407f-9dec-e43e2d6f1424",
   "metadata": {},
   "source": [
    "### 05 - DATASET REDUCTION FOR DEMO"
   ]
  },
  {
   "cell_type": "markdown",
   "id": "8eb23bc6-677e-4d82-af98-36ee1fb9b3c4",
   "metadata": {},
   "source": [
    "The following code does not run if any of the dataset required to pick data from previously run thorugh the launch of other codes"
   ]
  },
  {
   "cell_type": "markdown",
   "id": "06607a79-c9be-446b-9e09-f1eb34998a17",
   "metadata": {},
   "source": [
    "#### 05.1 - Reduction of the temperature and the dew point pemperature datasets"
   ]
  },
  {
   "cell_type": "code",
   "execution_count": 8,
   "id": "5a5fe679-50e0-46e6-bfbb-2dd248f17d28",
   "metadata": {},
   "outputs": [
    {
     "name": "stdout",
     "output_type": "stream",
     "text": [
      "✅ Dataset salvato correttamente in:\n",
      "C:\\Users\\andre\\Downloads\\2m_dew_point_temp_2023-04-01_2023-09-30.nc\n"
     ]
    }
   ],
   "source": [
    "import xarray as xr\n",
    "import pandas as pd\n",
    "from datetime import datetime\n",
    "import os\n",
    "\n",
    "# === INPUT: PERCORSO FILE ===\n",
    "file_path = r\"C:\\Users\\andre\\Downloads\\dew_point_temp_81_23.nc\"\n",
    "\n",
    "# === INPUT: DATE DI INIZIO E FINE (formato stringa) ===\n",
    "start_date_str = \"2023-04-01\"\n",
    "end_date_str = \"2023-09-30\"\n",
    "\n",
    "# === CONVERSIONE A DATETIME ===\n",
    "start_date = pd.to_datetime(start_date_str)\n",
    "end_date = pd.to_datetime(end_date_str)\n",
    "\n",
    "# === APERTURA DEL DATASET ===\n",
    "ds = xr.open_dataset(file_path)\n",
    "\n",
    "# === FILTRAGGIO PER TIME RANGE GIORNALIERO 11:00–17:00 ===\n",
    "time_values = pd.to_datetime(ds.time.values)\n",
    "mask_date = (time_values >= start_date) & (time_values <= end_date)\n",
    "mask_hour = (time_values.hour >= 11) & (time_values.hour <= 17)\n",
    "final_mask = mask_date & mask_hour\n",
    "\n",
    "# === SELEZIONE DEL SOTTOINSIEME ===\n",
    "ds_subset = ds.sel(time=ds.time[final_mask])\n",
    "\n",
    "# === CHIUSURA DEL DATASET ORIGINALE PRIMA DEL SALVATAGGIO ===\n",
    "ds.close()\n",
    "\n",
    "# === SALVATAGGIO ===\n",
    "output_filename = f\"2m_dew_point_temp_{start_date_str}_{end_date_str}.nc\"\n",
    "save_dir = r\"C:\\Users\\andre\\Downloads\"\n",
    "output_path = os.path.join(save_dir, output_filename)\n",
    "\n",
    "ds_subset.to_netcdf(output_path, mode=\"w\")  # modalità scrittura\n",
    "\n",
    "print(f\"✅ Dataset salvato correttamente in:\\n{output_path}\")\n"
   ]
  },
  {
   "cell_type": "markdown",
   "id": "8ab10884-10e8-4f21-94f9-870620c1e956",
   "metadata": {},
   "source": [
    "#### 05.2 - Reduction of the heat stress indices database"
   ]
  },
  {
   "cell_type": "code",
   "execution_count": 12,
   "id": "00663a9c-b98a-4d3f-8cab-8daca9eed4c7",
   "metadata": {},
   "outputs": [
    {
     "name": "stdout",
     "output_type": "stream",
     "text": [
      "🛑 Fermato prima di aggiungere l'anno 1985 perché si supererebbe il limite.\n",
      "✅ File finale salvato in: C:\\Users\\andre\\OneDrive\\Documenti\\Filippo\\Università\\24_Corsi\\Geoinformatics_project\\elab\\Outputs\\heatstress_all_timestamps_all_reduced.csv\n",
      "📦 Dimensione finale: 88.91 MB\n",
      "📆 Anni inclusi: [2023, 2022, 2021, 2020, 2019, 2018, 2017, 2016, 2015, 2014, 2013, 2012, 2011, 2010, 2009, 2008, 2007, 2006, 2005, 2004, 2003, 2002, 2001, 2000, 1999, 1998, 1997, 1996, 1995, 1994, 1993, 1992, 1991, 1990, 1989, 1988, 1987, 1986]\n"
     ]
    }
   ],
   "source": [
    "import pandas as pd\n",
    "import os\n",
    "\n",
    "# === Parametri ===\n",
    "input_path = r\"C:\\Users\\andre\\OneDrive\\Documenti\\Filippo\\Università\\24_Corsi\\Geoinformatics_project\\elab\\Outputs\\heatstress_all_timestamps_all_years.csv\"\n",
    "output_path = r\"C:\\Users\\andre\\OneDrive\\Documenti\\Filippo\\Università\\24_Corsi\\Geoinformatics_project\\elab\\Outputs\\heatstress_all_timestamps_all_reduced.csv\"\n",
    "size_limit_mb = 90\n",
    "\n",
    "# === Caricamento solo colonna temporale per determinare gli anni disponibili ===\n",
    "df_times = pd.read_csv(input_path, usecols=['Timestamp'], parse_dates=['Timestamp'])\n",
    "df_times['year'] = df_times['Timestamp'].dt.year\n",
    "years = sorted(df_times['year'].unique(), reverse=True)\n",
    "\n",
    "# === Caricamento completo del CSV una sola volta ===\n",
    "df_full = pd.read_csv(input_path, parse_dates=['Timestamp'])\n",
    "\n",
    "# === Creazione progressiva del sottoinsieme completo ===\n",
    "final_subset = pd.DataFrame()\n",
    "\n",
    "for year in years:\n",
    "    year_data = df_full[df_full['Timestamp'].dt.year == year]\n",
    "    \n",
    "    # Unione temporanea\n",
    "    temp_subset = pd.concat([year_data, final_subset])\n",
    "    \n",
    "    # Scriviamo temporaneamente e controlliamo dimensione\n",
    "    temp_subset.to_csv(output_path, index=False)\n",
    "    size_mb = os.path.getsize(output_path) / (1024 * 1024)\n",
    "    \n",
    "    if size_mb > size_limit_mb:\n",
    "        print(f\"🛑 Fermato prima di aggiungere l'anno {year} perché si supererebbe il limite.\")\n",
    "        break\n",
    "    \n",
    "    # Aggiungiamo stabilmente\n",
    "    final_subset = temp_subset.copy()\n",
    "\n",
    "# Salvataggio finale\n",
    "final_subset.to_csv(output_path, index=False)\n",
    "\n",
    "# === Info finali ===\n",
    "print(f\"✅ File finale salvato in: {output_path}\")\n",
    "print(f\"📦 Dimensione finale: {os.path.getsize(output_path) / (1024*1024):.2f} MB\")\n",
    "print(f\"📆 Anni inclusi: {sorted(final_subset['Timestamp'].dt.year.unique(), reverse=True)}\")\n"
   ]
  },
  {
   "cell_type": "code",
   "execution_count": 11,
   "id": "69ec79b2-31ce-4d6a-aea1-4b68427116f4",
   "metadata": {},
   "outputs": [
    {
     "name": "stdout",
     "output_type": "stream",
     "text": [
      "['Timestamp', 'Numero Timestamp', 'Indice', 'Media (°C)', 'Mediana (°C)', '95° Perc. (°C)', '99° Perc. (°C)', 'Massimo (°C)', 'Soglia (°C)', 'Media > Soglia', 'Mediana > Soglia', '95° Perc. > Soglia', '99° Perc. > Soglia', 'Massimo > Soglia', 'Data']\n"
     ]
    }
   ],
   "source": [
    "import pandas as pd\n",
    "\n",
    "df = pd.read_csv(r\"C:\\Users\\andre\\OneDrive\\Documenti\\Filippo\\Università\\24_Corsi\\Geoinformatics_project\\elab\\Outputs\\heatstress_all_timestamps_all_years.csv\", nrows=5)\n",
    "print(df.columns.tolist())\n"
   ]
  }
 ],
 "metadata": {
  "kernelspec": {
   "display_name": "Python 3 (ipykernel)",
   "language": "python",
   "name": "python3"
  },
  "language_info": {
   "codemirror_mode": {
    "name": "ipython",
    "version": 3
   },
   "file_extension": ".py",
   "mimetype": "text/x-python",
   "name": "python",
   "nbconvert_exporter": "python",
   "pygments_lexer": "ipython3",
   "version": "3.8.20"
  }
 },
 "nbformat": 4,
 "nbformat_minor": 5
}
