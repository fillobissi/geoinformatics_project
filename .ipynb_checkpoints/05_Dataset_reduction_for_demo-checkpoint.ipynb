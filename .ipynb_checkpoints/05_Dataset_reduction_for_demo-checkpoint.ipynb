{
 "cells": [
  {
   "cell_type": "markdown",
   "id": "5a769de7-5a1e-407f-9dec-e43e2d6f1424",
   "metadata": {},
   "source": [
    "### 05 - DATASET REDUCTION FOR DEMO"
   ]
  },
  {
   "cell_type": "markdown",
   "id": "8eb23bc6-677e-4d82-af98-36ee1fb9b3c4",
   "metadata": {},
   "source": [
    "The following code does not run if any of the dataset required to pick data from previously run thorugh the launch of other codes"
   ]
  },
  {
   "cell_type": "code",
   "execution_count": 8,
   "id": "5a5fe679-50e0-46e6-bfbb-2dd248f17d28",
   "metadata": {},
   "outputs": [
    {
     "name": "stdout",
     "output_type": "stream",
     "text": [
      "✅ Dataset salvato correttamente in:\n",
      "C:\\Users\\andre\\Downloads\\2m_dew_point_temp_2023-04-01_2023-09-30.nc\n"
     ]
    }
   ],
   "source": [
    "import xarray as xr\n",
    "import pandas as pd\n",
    "from datetime import datetime\n",
    "import os\n",
    "\n",
    "# === INPUT: PERCORSO FILE ===\n",
    "file_path = r\"C:\\Users\\andre\\Downloads\\dew_point_temp_81_23.nc\"\n",
    "\n",
    "# === INPUT: DATE DI INIZIO E FINE (formato stringa) ===\n",
    "start_date_str = \"2023-04-01\"\n",
    "end_date_str = \"2023-09-30\"\n",
    "\n",
    "# === CONVERSIONE A DATETIME ===\n",
    "start_date = pd.to_datetime(start_date_str)\n",
    "end_date = pd.to_datetime(end_date_str)\n",
    "\n",
    "# === APERTURA DEL DATASET ===\n",
    "ds = xr.open_dataset(file_path)\n",
    "\n",
    "# === FILTRAGGIO PER TIME RANGE GIORNALIERO 11:00–17:00 ===\n",
    "time_values = pd.to_datetime(ds.time.values)\n",
    "mask_date = (time_values >= start_date) & (time_values <= end_date)\n",
    "mask_hour = (time_values.hour >= 11) & (time_values.hour <= 17)\n",
    "final_mask = mask_date & mask_hour\n",
    "\n",
    "# === SELEZIONE DEL SOTTOINSIEME ===\n",
    "ds_subset = ds.sel(time=ds.time[final_mask])\n",
    "\n",
    "# === CHIUSURA DEL DATASET ORIGINALE PRIMA DEL SALVATAGGIO ===\n",
    "ds.close()\n",
    "\n",
    "# === SALVATAGGIO ===\n",
    "output_filename = f\"2m_dew_point_temp_{start_date_str}_{end_date_str}.nc\"\n",
    "save_dir = r\"C:\\Users\\andre\\Downloads\"\n",
    "output_path = os.path.join(save_dir, output_filename)\n",
    "\n",
    "ds_subset.to_netcdf(output_path, mode=\"w\")  # modalità scrittura\n",
    "\n",
    "print(f\"✅ Dataset salvato correttamente in:\\n{output_path}\")\n"
   ]
  },
  {
   "cell_type": "code",
   "execution_count": null,
   "id": "8ff3896f-774d-43fa-a15a-1e84569725a4",
   "metadata": {},
   "outputs": [],
   "source": []
  }
 ],
 "metadata": {
  "kernelspec": {
   "display_name": "Python 3 (ipykernel)",
   "language": "python",
   "name": "python3"
  },
  "language_info": {
   "codemirror_mode": {
    "name": "ipython",
    "version": 3
   },
   "file_extension": ".py",
   "mimetype": "text/x-python",
   "name": "python",
   "nbconvert_exporter": "python",
   "pygments_lexer": "ipython3",
   "version": "3.8.20"
  }
 },
 "nbformat": 4,
 "nbformat_minor": 5
}
