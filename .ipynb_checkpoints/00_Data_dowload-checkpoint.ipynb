{
 "cells": [
  {
   "cell_type": "markdown",
   "id": "f79f1e56-456c-4c32-b716-2e8d0833350d",
   "metadata": {},
   "source": [
    "## 00 - DATA CONNECTION"
   ]
  },
  {
   "cell_type": "markdown",
   "id": "b3f33a16-9e80-4ba5-b153-c84004205c05",
   "metadata": {},
   "source": [
    "##### Data source website of downscaled era5 (https://dds.cmcc.it/#/dataset/era5-downscaled-over-italy)\n",
    "##### Ddsapi library website (https://pypi.org/project/ddsapi/)\n",
    "Specific library to connect to cmcc dds api\n",
    "##### Pythermalcomfort library website (https://pythermalcomfort.readthedocs.io/en/latest/readme.html#installation)\n",
    "\n",
    "### ALL THE FOLLOWING CODE HAS BEEN RUN THROUGH THE USE OF LINUX SUBSYSTEM FOR WINDOWS"
   ]
  },
  {
   "cell_type": "code",
   "execution_count": 1,
   "id": "9b6ece35-701b-4158-ba68-78904a131719",
   "metadata": {},
   "outputs": [
    {
     "ename": "ModuleNotFoundError",
     "evalue": "No module named 'ddsapi'",
     "output_type": "error",
     "traceback": [
      "\u001b[1;31m---------------------------------------------------------------------------\u001b[0m",
      "\u001b[1;31mModuleNotFoundError\u001b[0m                       Traceback (most recent call last)",
      "Cell \u001b[1;32mIn[1], line 1\u001b[0m\n\u001b[1;32m----> 1\u001b[0m \u001b[38;5;28;01mimport\u001b[39;00m\u001b[38;5;250m \u001b[39m\u001b[38;5;21;01mddsapi\u001b[39;00m\n\u001b[0;32m      2\u001b[0m \u001b[38;5;28;01mimport\u001b[39;00m\u001b[38;5;250m \u001b[39m\u001b[38;5;21;01mrequests\u001b[39;00m\n\u001b[0;32m      3\u001b[0m \u001b[38;5;28;01mimport\u001b[39;00m\u001b[38;5;250m \u001b[39m\u001b[38;5;21;01mdatetime\u001b[39;00m\n",
      "\u001b[1;31mModuleNotFoundError\u001b[0m: No module named 'ddsapi'"
     ]
    }
   ],
   "source": [
    "import ddsapi\n",
    "import requests\n",
    "import datetime\n",
    "import time"
   ]
  },
  {
   "cell_type": "markdown",
   "id": "6c2da3f4-b5fd-4a59-8962-f4f262b2394d",
   "metadata": {},
   "source": [
    "### Richiesta lanciata per i datasets interi"
   ]
  },
  {
   "cell_type": "code",
   "execution_count": 3,
   "id": "38c6b9ed-48c5-41d8-b638-b95c3838ede5",
   "metadata": {},
   "outputs": [
    {
     "ename": "ModuleNotFoundError",
     "evalue": "No module named 'ddsapi'",
     "output_type": "error",
     "traceback": [
      "\u001b[1;31m---------------------------------------------------------------------------\u001b[0m",
      "\u001b[1;31mModuleNotFoundError\u001b[0m                       Traceback (most recent call last)",
      "Cell \u001b[1;32mIn[3], line 1\u001b[0m\n\u001b[1;32m----> 1\u001b[0m \u001b[38;5;28;01mimport\u001b[39;00m\u001b[38;5;250m \u001b[39m\u001b[38;5;21;01mddsapi\u001b[39;00m\n\u001b[0;32m      3\u001b[0m c \u001b[38;5;241m=\u001b[39m ddsapi\u001b[38;5;241m.\u001b[39mClient(key\u001b[38;5;241m=\u001b[39m\u001b[38;5;124m\"\u001b[39m\u001b[38;5;124mfe5b9e1b-4d10-44f2-9a02-e70693af8336:uQ-L6cUM97ssY6SmNG2jU8P8N8afpMM1R91NAZl5muc\u001b[39m\u001b[38;5;124m\"\u001b[39m)  \u001b[38;5;66;03m# Inserisci la tua API key qui\u001b[39;00m\n\u001b[0;32m      5\u001b[0m c\u001b[38;5;241m.\u001b[39mretrieve(\u001b[38;5;124m\"\u001b[39m\u001b[38;5;124mera5-downscaled-over-italy\u001b[39m\u001b[38;5;124m\"\u001b[39m, \u001b[38;5;124m\"\u001b[39m\u001b[38;5;124mhourly\u001b[39m\u001b[38;5;124m\"\u001b[39m,\n\u001b[0;32m      6\u001b[0m {\n\u001b[0;32m      7\u001b[0m     \u001b[38;5;124m\"\u001b[39m\u001b[38;5;124marea\u001b[39m\u001b[38;5;124m\"\u001b[39m: {\n\u001b[1;32m   (...)\u001b[0m\n\u001b[0;32m    107\u001b[0m },\n\u001b[0;32m    108\u001b[0m \u001b[38;5;124m\"\u001b[39m\u001b[38;5;124mera5-downscaled-over-italy-hourly.nc\u001b[39m\u001b[38;5;124m\"\u001b[39m)\n",
      "\u001b[1;31mModuleNotFoundError\u001b[0m: No module named 'ddsapi'"
     ]
    }
   ],
   "source": [
    "import ddsapi\n",
    "import ddsapi\n",
    "import requests\n",
    "import datetime\n",
    "import time\n",
    "\n",
    "c = ddsapi.Client(key=\"fe5b9e1b-4d10-44f2-9a02-e70693af8336:uQ-L6cUM97ssY6SmNG2jU8P8N8afpMM1R91NAZl5muc\")  # Inserisci la tua API key qui\n",
    "\n",
    "c.retrieve(\"era5-downscaled-over-italy\", \"hourly\",\n",
    "{\n",
    "    \"area\": {\n",
    "        \"north\": 46.65,\n",
    "        \"south\": 44.64,\n",
    "        \"east\": 11.6,\n",
    "        \"west\": 8.4\n",
    "    },\n",
    "    \"vertical\": [\n",
    "        0.004999999888241291,\n",
    "        0.019999999552965164,\n",
    "        0.05999999865889549,\n",
    "        0.18000000715255737,\n",
    "        0.5400000214576721,\n",
    "        1.6200000047683716,\n",
    "        4.860000133514404,\n",
    "        14.579999923706055\n",
    "    ],\n",
    "    \"time\": {\n",
    "        \"hour\": [\n",
    "            \"11\",\n",
    "            \"12\",\n",
    "            \"13\",\n",
    "            \"14\",\n",
    "            \"15\",\n",
    "            \"16\",\n",
    "            \"17\"\n",
    "        ],\n",
    "        \"year\": [\n",
    "            \"1983\",\n",
    "            \"1991\",\n",
    "            \"1989\",\n",
    "            \"1994\",\n",
    "            \"1987\",\n",
    "            \"1985\",\n",
    "            \"1996\",\n",
    "            \"1982\",\n",
    "            \"1990\",\n",
    "            \"1992\",\n",
    "            \"1997\",\n",
    "            \"1999\",\n",
    "            \"1995\",\n",
    "            \"1986\",\n",
    "            \"1998\",\n",
    "            \"1984\",\n",
    "            \"1981\",\n",
    "            \"1988\",\n",
    "            \"1993\",\n",
    "            \"2000\"\n",
    "        ],\n",
    "        \"month\": [\n",
    "            \"1\",\n",
    "            \"2\",\n",
    "            \"3\",\n",
    "            \"4\",\n",
    "            \"5\",\n",
    "            \"6\",\n",
    "            \"7\",\n",
    "            \"8\",\n",
    "            \"9\",\n",
    "            \"10\",\n",
    "            \"11\",\n",
    "            \"12\"\n",
    "        ],\n",
    "        \"day\": [\n",
    "            \"1\",\n",
    "            \"2\",\n",
    "            \"3\",\n",
    "            \"4\",\n",
    "            \"5\",\n",
    "            \"6\",\n",
    "            \"7\",\n",
    "            \"8\",\n",
    "            \"9\",\n",
    "            \"10\",\n",
    "            \"11\",\n",
    "            \"12\",\n",
    "            \"13\",\n",
    "            \"14\",\n",
    "            \"15\",\n",
    "            \"16\",\n",
    "            \"17\",\n",
    "            \"18\",\n",
    "            \"19\",\n",
    "            \"20\",\n",
    "            \"21\",\n",
    "            \"22\",\n",
    "            \"23\",\n",
    "            \"24\",\n",
    "            \"25\",\n",
    "            \"26\",\n",
    "            \"27\",\n",
    "            \"28\",\n",
    "            \"29\",\n",
    "            \"30\",\n",
    "            \"31\"\n",
    "        ]\n",
    "    },\n",
    "    \"variable\": [\n",
    "        \"dew_point_temperature\"\n",
    "    ],\n",
    "    \"format\": \"netcdf\"\n",
    "},\n",
    "\"era5-downscaled-over-italy-hourly.nc\")"
   ]
  }
 ],
 "metadata": {
  "kernelspec": {
   "display_name": "Python 3 (ipykernel)",
   "language": "python",
   "name": "python3"
  },
  "language_info": {
   "codemirror_mode": {
    "name": "ipython",
    "version": 3
   },
   "file_extension": ".py",
   "mimetype": "text/x-python",
   "name": "python",
   "nbconvert_exporter": "python",
   "pygments_lexer": "ipython3",
   "version": "3.8.20"
  }
 },
 "nbformat": 4,
 "nbformat_minor": 5
}
