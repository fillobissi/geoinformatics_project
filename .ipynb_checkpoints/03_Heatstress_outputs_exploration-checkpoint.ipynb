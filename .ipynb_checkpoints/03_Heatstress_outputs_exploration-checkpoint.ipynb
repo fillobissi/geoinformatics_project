{
 "cells": [
  {
   "cell_type": "markdown",
   "id": "4f529b9f-1bde-433d-b94f-5dba869b27b6",
   "metadata": {},
   "source": [
    "### 03 - HEAT STRESS OUTPUTS EXPLORATION"
   ]
  },
  {
   "cell_type": "markdown",
   "id": "73842dda-7e12-4d33-be1e-4330d8cd09c1",
   "metadata": {},
   "source": [
    "#### 03.1 - Libraries import"
   ]
  },
  {
   "cell_type": "code",
   "execution_count": 16,
   "id": "c516cab7-bb3a-4425-bbb5-f379663a338f",
   "metadata": {},
   "outputs": [],
   "source": [
    "import pandas as pd\n",
    "import numpy as np\n",
    "import matplotlib.pyplot as plt"
   ]
  },
  {
   "cell_type": "markdown",
   "id": "2c8af795-a7bb-48d2-8da9-7a350eea6432",
   "metadata": {},
   "source": [
    "#### 03.2 - Temporal patterns analysis"
   ]
  },
  {
   "cell_type": "code",
   "execution_count": null,
   "id": "8c656963-addf-48c9-a08c-c3912f966ebd",
   "metadata": {},
   "outputs": [],
   "source": [
    "import pandas as pd\n",
    "import numpy as np\n",
    "import matplotlib.pyplot as plt\n",
    "\n",
    "# ========== PARAMETERS ==========\n",
    "csv_path = \"heatstress_all_timestamps_all_years.csv\"\n",
    "stat_method = \"99° Perc. (°C)\"  # Examples: \"Mean (°C)\", \"Median (°C)\", \"95° Perc. (°C)\", etc.\n",
    "min_thresholds_exceeded = 3     # Minimum number of indices that must exceed threshold\n",
    "\n",
    "# ========== LOAD DATA ==========\n",
    "df = pd.read_csv(csv_path, parse_dates=[\"Timestamp\"])\n",
    "df[\"Year\"] = df[\"Timestamp\"].dt.year\n",
    "\n",
    "# Dynamic column names\n",
    "col_value = stat_method\n",
    "col_threshold = \"Soglia (°C)\"\n",
    "col_comparison = stat_method.replace(\" (°C)\", \"\") + \" > Soglia\"\n",
    "\n",
    "# Check required columns\n",
    "for col in [col_value, col_threshold, col_comparison]:\n",
    "    if col not in df.columns:\n",
    "        raise ValueError(f\"Column '{col}' not found. Available columns:\\n{df.columns.tolist()}\")\n",
    "\n",
    "# ========== PROCESS DANGEROUS DAYS ==========\n",
    "danger_days = []\n",
    "\n",
    "for date, group in df.groupby(\"Timestamp\"):\n",
    "    group = group.set_index(\"Indice\")\n",
    "    bool_exceeded = group[col_comparison] == \"si\"\n",
    "    n_exceeded = bool_exceeded.sum()\n",
    "    \n",
    "    # Excedance: summatory of the residuals between threshold and actual value for each of the parameters\n",
    "    # for a day over \"min_thresholds_exceeded\"\n",
    "    \n",
    "    if n_exceeded >= min_thresholds_exceeded:\n",
    "        exceedance_sum = (group.loc[bool_exceeded, col_value] - group.loc[bool_exceeded, col_threshold]).sum()\n",
    "        danger_days.append({\n",
    "            \"Date\": date,\n",
    "            \"Year\": date.year,\n",
    "            \"ThresholdsExceeded\": n_exceeded,\n",
    "            \"ExceedanceSum\": exceedance_sum\n",
    "        })\n",
    "\n",
    "# ========== YEARLY AGGREGATION ==========\n",
    "df_danger = pd.DataFrame(danger_days)\n",
    "years_full = range(df[\"Year\"].min(), df[\"Year\"].max() + 1)\n",
    "\n",
    "summary = df_danger.groupby(\"Year\").agg({\n",
    "    \"Date\": \"count\",\n",
    "    \"ExceedanceSum\": \"sum\"\n",
    "}).rename(columns={\"Date\": \"DangerousDays\"}).reindex(years_full, fill_value=0)\n",
    "\n",
    "# Compute average cumulative intensity\n",
    "summary[\"DangerousDays\"] = summary[\"DangerousDays\"].clip(lower=0).fillna(0)\n",
    "summary[\"ExceedanceSum\"] = summary[\"ExceedanceSum\"].fillna(0)\n",
    "summary[\"AvgCumulativeIntensity\"] = summary.apply(\n",
    "    lambda row: row[\"ExceedanceSum\"] / row[\"DangerousDays\"] if row[\"DangerousDays\"] > 0 else 0,\n",
    "    axis=1\n",
    ")\n",
    "\n",
    "# ========== PLOT ==========\n",
    "fig, ax1 = plt.subplots(figsize=(13, 6))\n",
    "\n",
    "# Bar plot: dangerous days per year\n",
    "ax1.bar(summary.index, summary[\"DangerousDays\"], color=\"orange\", label=\"Dangerous Days\")\n",
    "ax1.set_ylabel(\"Dangerous Days\", color=\"orange\")\n",
    "ax1.set_xlabel(\"Year\")\n",
    "ax1.tick_params(axis='y', labelcolor=\"orange\")\n",
    "ax1.set_ylim(bottom=0)  # Force bottom to zero\n",
    "\n",
    "# Line plot: average cumulative intensity\n",
    "ax2 = ax1.twinx()\n",
    "ax2.plot(summary.index, summary[\"AvgCumulativeIntensity\"], color=\"blue\", marker='o', label=\"Avg. Cumulative Intensity\")\n",
    "ax2.set_ylabel(\"Avg. Cumulative Intensity (°C)\", color=\"blue\")\n",
    "ax2.tick_params(axis='y', labelcolor=\"blue\")\n",
    "ax2.set_ylim(bottom=0)  # Align zero with bar axis\n",
    "\n",
    "plt.title(f\"Dangerous Days (≥ {min_thresholds_exceeded} indices above threshold) - Method: {stat_method}\")\n",
    "plt.grid(True, axis=\"both\", linestyle=\"--\", alpha=0.3)\n",
    "plt.tight_layout()\n",
    "plt.show()"
   ]
  },
  {
   "cell_type": "code",
   "execution_count": null,
   "id": "9f0175e5-7b91-488a-8eab-36a2405664f4",
   "metadata": {},
   "outputs": [],
   "source": []
  }
 ],
 "metadata": {
  "kernelspec": {
   "display_name": "Python 3 (ipykernel)",
   "language": "python",
   "name": "python3"
  },
  "language_info": {
   "codemirror_mode": {
    "name": "ipython",
    "version": 3
   },
   "file_extension": ".py",
   "mimetype": "text/x-python",
   "name": "python",
   "nbconvert_exporter": "python",
   "pygments_lexer": "ipython3",
   "version": "3.8.20"
  }
 },
 "nbformat": 4,
 "nbformat_minor": 5
}
