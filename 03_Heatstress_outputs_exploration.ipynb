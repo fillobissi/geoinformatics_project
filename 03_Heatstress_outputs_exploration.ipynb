{
 "cells": [
  {
   "cell_type": "markdown",
   "id": "4f529b9f-1bde-433d-b94f-5dba869b27b6",
   "metadata": {},
   "source": [
    "### 03 - HEAT STRESS OUTPUTS EXPLORATION"
   ]
  },
  {
   "cell_type": "markdown",
   "id": "73842dda-7e12-4d33-be1e-4330d8cd09c1",
   "metadata": {},
   "source": [
    "#### 03.1 - Libraries import"
   ]
  },
  {
   "cell_type": "code",
   "execution_count": 2,
   "id": "c516cab7-bb3a-4425-bbb5-f379663a338f",
   "metadata": {},
   "outputs": [],
   "source": [
    "import pandas as pd\n",
    "import numpy as np\n",
    "import matplotlib.pyplot as plt"
   ]
  },
  {
   "cell_type": "markdown",
   "id": "2c8af795-a7bb-48d2-8da9-7a350eea6432",
   "metadata": {},
   "source": [
    "#### 03.2 - Temporal patterns analysis"
   ]
  },
  {
   "cell_type": "code",
   "execution_count": null,
   "id": "8c656963-addf-48c9-a08c-c3912f966ebd",
   "metadata": {},
   "outputs": [],
   "source": [
    "import pandas as pd\n",
    "import numpy as np\n",
    "import matplotlib.pyplot as plt\n",
    "\n",
    "# ========== PARAMETRI MODIFICABILI ==========\n",
    "csv_path = \"heatstress_all_timestamps_all_years.csv\"\n",
    "metodo_statistico = \"95° Perc. (°C)\"  # Usa esattamente i nomi nel CSV\n",
    "min_soglie_superate = 3  # Minimo numero di indici che devono superare la soglia\n",
    "\n",
    "# ========== CARICAMENTO ==========\n",
    "df = pd.read_csv(csv_path, parse_dates=[\"Timestamp\"])\n",
    "\n",
    "# Aggiungi colonna \"Anno\"\n",
    "df[\"Anno\"] = df[\"Timestamp\"].dt.year\n",
    "\n",
    "# ========== VALIDAZIONE NOMI COLONNE ==========\n",
    "col_valore = metodo_statistico\n",
    "col_confronto = f\"{metodo_statistico.split(' (')[0]} > Soglia\"\n",
    "col_soglia = \"Soglia (°C)\"\n",
    "\n",
    "# Controlla che le colonne esistano\n",
    "for col in [col_valore, col_confronto, col_soglia]:\n",
    "    if col not in df.columns:\n",
    "        raise ValueError(f\"Colonna '{col}' non trovata. Colonne disponibili: {df.columns.tolist()}\")\n",
    "\n",
    "# ========== COSTRUZIONE GIORNI PERICOLOSI ==========\n",
    "giorni_pericolo = []\n",
    "\n",
    "# Raggruppa per giorno (Timestamp)\n",
    "for giorno, gruppo in df.groupby(\"Timestamp\"):\n",
    "    gruppo = gruppo.set_index(\"Indice\")\n",
    "    n_superati = (gruppo[col_confronto] == \"si\").sum()\n",
    "\n",
    "    if n_superati >= min_soglie_superate:\n",
    "        residui = (gruppo.loc[gruppo[col_confronto] == \"si\", col_valore] -\n",
    "                   gruppo.loc[gruppo[col_confronto] == \"si\", col_soglia]).sum()\n",
    "\n",
    "        giorni_pericolo.append({\n",
    "            \"Data\": giorno,\n",
    "            \"Anno\": giorno.year,\n",
    "            \"n_superata\": n_superati,\n",
    "            \"residuo_totale\": residui\n",
    "        })\n",
    "\n",
    "# ========== AGGREGAZIONE PER ANNO ==========\n",
    "df_pericolo = pd.DataFrame(giorni_pericolo)\n",
    "anni_completi = sorted(df[\"Anno\"].unique())\n",
    "\n",
    "summary = df_pericolo.groupby(\"Anno\").agg({\n",
    "    \"Data\": \"count\",\n",
    "    \"residuo_totale\": \"sum\"\n",
    "}).rename(columns={\"Data\": \"giorni_pericolosi\"}).reindex(anni_completi, fill_value=0)\n",
    "\n",
    "summary[\"intensità_media\"] = summary.apply(\n",
    "    lambda row: row[\"residuo_totale\"] / row[\"giorni_pericolosi\"] if row[\"giorni_pericolosi\"] > 0 else 0,\n",
    "    axis=1\n",
    ")\n",
    "\n",
    "# ========== VISUALIZZAZIONE ==========\n",
    "fig, ax1 = plt.subplots(figsize=(12, 6))\n",
    "\n",
    "ax1.bar(summary.index, summary[\"giorni_pericolosi\"], color=\"orange\", label=\"Giorni oltre soglia\")\n",
    "ax1.set_ylabel(\"Giorni oltre soglia\", color=\"orange\")\n",
    "ax1.set_xlabel(\"Anno\")\n",
    "ax1.tick_params(axis='y', labelcolor=\"orange\")\n",
    "\n",
    "# Secondo asse y per intensità\n",
    "ax2 = ax1.twinx()\n",
    "ax2.plot(summary.index, summary[\"intensità_media\"], color=\"blue\", marker='o', label=\"Intensità media\")\n",
    "ax2.set_ylabel(\"Intensità cumulativa media\", color=\"blue\")\n",
    "ax2.tick_params(axis='y', labelcolor=\"blue\")\n",
    "\n",
    "plt.title(f\"Giorni pericolosi (≥ {min_soglie_superate} indici oltre soglia) - Metodo: {metodo_statistico}\")\n",
    "fig.tight_layout()\n",
    "plt.grid(True)\n",
    "plt.show()"
   ]
  },
  {
   "cell_type": "code",
   "execution_count": null,
   "id": "9f0175e5-7b91-488a-8eab-36a2405664f4",
   "metadata": {},
   "outputs": [],
   "source": []
  }
 ],
 "metadata": {
  "kernelspec": {
   "display_name": "Python 3 (ipykernel)",
   "language": "python",
   "name": "python3"
  },
  "language_info": {
   "codemirror_mode": {
    "name": "ipython",
    "version": 3
   },
   "file_extension": ".py",
   "mimetype": "text/x-python",
   "name": "python",
   "nbconvert_exporter": "python",
   "pygments_lexer": "ipython3",
   "version": "3.8.20"
  }
 },
 "nbformat": 4,
 "nbformat_minor": 5
}
