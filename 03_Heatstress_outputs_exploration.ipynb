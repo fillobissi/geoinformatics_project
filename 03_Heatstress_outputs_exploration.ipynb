{
 "cells": [
  {
   "cell_type": "markdown",
   "id": "4f529b9f-1bde-433d-b94f-5dba869b27b6",
   "metadata": {},
   "source": [
    "### 03 - HEAT STRESS OUTPUTS EXPLORATION"
   ]
  },
  {
   "cell_type": "markdown",
   "id": "73842dda-7e12-4d33-be1e-4330d8cd09c1",
   "metadata": {},
   "source": [
    "#### 03.1 - Libraries import"
   ]
  },
  {
   "cell_type": "code",
   "execution_count": 2,
   "id": "c516cab7-bb3a-4425-bbb5-f379663a338f",
   "metadata": {},
   "outputs": [],
   "source": [
    "import pandas as pd\n",
    "import numpy as np\n",
    "import matplotlib.pyplot as plt"
   ]
  },
  {
   "cell_type": "markdown",
   "id": "2c8af795-a7bb-48d2-8da9-7a350eea6432",
   "metadata": {},
   "source": [
    "#### 03.2 - Temporal patterns analysis"
   ]
  },
  {
   "cell_type": "code",
   "execution_count": null,
   "id": "8c656963-addf-48c9-a08c-c3912f966ebd",
   "metadata": {},
   "outputs": [],
   "source": [
    "import pandas as pd\n",
    "import numpy as np\n",
    "import matplotlib.pyplot as plt\n",
    "\n",
    "# ========== PARAMETRI MODIFICABILI ==========\n",
    "csv_path = \"heatstress_all_timestamps_all_years.csv\"\n",
    "metodo_statistico = \"95 Perc.\"  # Opzioni: \"Media\", \"Mediana\", \"95 Perc.\", \"99 Perc.\", \"Massimo\"\n",
    "min_soglie_superate = 4         # Minimo numero di indici oltre soglia\n",
    "\n",
    "# ========== CARICAMENTO ==========\n",
    "df = pd.read_csv(csv_path, parse_dates=[\"Timestamp\"])\n",
    "df[\"Anno\"] = df[\"Timestamp\"].dt.year\n",
    "\n",
    "# Adatta i nomi delle colonne (rimuove simboli speciali)\n",
    "df.columns = df.columns.str.replace(\"°\", \"\").str.replace(\"(C)\", \"\").str.strip()\n",
    "\n",
    "# Colonna confronto e soglia\n",
    "col_valore = metodo_statistico\n",
    "col_soglia = \"Soglia (C)\"\n",
    "col_confronto = f\"{metodo_statistico} > Soglia\"\n",
    "\n",
    "# Verifica che esista\n",
    "if col_confronto not in df.columns:\n",
    "    raise ValueError(f\"Colonna '{col_confronto}' non trovata. Colonne disponibili:\\n{df.columns.tolist()}\")\n",
    "\n",
    "# ========== COSTRUZIONE GIORNI PERICOLOSI ==========\n",
    "giorni_pericolo = []\n",
    "\n",
    "for giorno, gruppo in df.groupby(\"Timestamp\"):\n",
    "    sotto_df = gruppo.set_index(\"Indice\")\n",
    "    bool_superata = sotto_df[col_confronto] == \"si\"\n",
    "    n_superata = bool_superata.sum()\n",
    "    \n",
    "    if n_superata >= min_soglie_superate:\n",
    "        residui = (sotto_df.loc[bool_superata, col_valore] - sotto_df.loc[bool_superata, col_soglia]).sum()\n",
    "        giorni_pericolo.append({\n",
    "            \"Data\": giorno,\n",
    "            \"Anno\": giorno.year,\n",
    "            \"n_superata\": n_superata,\n",
    "            \"residuo_totale\": residui\n",
    "        })\n",
    "\n",
    "# ========== AGGREGAZIONE PER ANNO ==========\n",
    "df_pericolo = pd.DataFrame(giorni_pericolo)\n",
    "summary = df_pericolo.groupby(\"Anno\").agg({\n",
    "    \"Data\": \"count\",\n",
    "    \"residuo_totale\": \"sum\"\n",
    "}).rename(columns={\"Data\": \"giorni_pericolosi\"})\n",
    "\n",
    "summary[\"intensità_media\"] = summary[\"residuo_totale\"] / summary[\"giorni_pericolosi\"]\n",
    "\n",
    "# ========== GRAFICO ==========\n",
    "fig, ax1 = plt.subplots(figsize=(12, 6))\n",
    "\n",
    "ax1.bar(summary.index, summary[\"giorni_pericolosi\"], color=\"orange\", label=\"Giorni oltre soglia\")\n",
    "ax1.set_ylabel(\"Giorni oltre soglia\", color=\"orange\")\n",
    "ax1.set_xlabel(\"Anno\")\n",
    "ax1.tick_params(axis='y', labelcolor=\"orange\")\n",
    "\n",
    "ax2 = ax1.twinx()\n",
    "ax2.plot(summary.index, summary[\"intensità_media\"], color=\"blue\", marker='o', label=\"Intensità media\")\n",
    "ax2.set_ylabel(\"Intensità cumulativa media\", color=\"blue\")\n",
    "ax2.tick_params(axis='y', labelcolor=\"blue\")\n",
    "\n",
    "plt.title(f\"Giorni pericolosi (≥ {min_soglie_superate} indici oltre soglia) - Metodo: {col_valore}\")\n",
    "fig.tight_layout()\n",
    "plt.grid(True)\n",
    "plt.show()"
   ]
  },
  {
   "cell_type": "code",
   "execution_count": null,
   "id": "9f0175e5-7b91-488a-8eab-36a2405664f4",
   "metadata": {},
   "outputs": [],
   "source": []
  }
 ],
 "metadata": {
  "kernelspec": {
   "display_name": "Python 3 (ipykernel)",
   "language": "python",
   "name": "python3"
  },
  "language_info": {
   "codemirror_mode": {
    "name": "ipython",
    "version": 3
   },
   "file_extension": ".py",
   "mimetype": "text/x-python",
   "name": "python",
   "nbconvert_exporter": "python",
   "pygments_lexer": "ipython3",
   "version": "3.8.20"
  }
 },
 "nbformat": 4,
 "nbformat_minor": 5
}
